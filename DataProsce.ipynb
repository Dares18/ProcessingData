{
  "nbformat": 4,
  "nbformat_minor": 0,
  "metadata": {
    "colab": {
      "provenance": [],
      "mount_file_id": "1yZaxm8epKk3HXUcF1vDC9KYvfSe0X3av",
      "authorship_tag": "ABX9TyO0ECr8PIkj/jcqRctybI/d",
      "include_colab_link": true
    },
    "kernelspec": {
      "name": "python3",
      "display_name": "Python 3"
    },
    "language_info": {
      "name": "python"
    }
  },
  "cells": [
    {
      "cell_type": "markdown",
      "metadata": {
        "id": "view-in-github",
        "colab_type": "text"
      },
      "source": [
        "<a href=\"https://colab.research.google.com/github/Dares18/ProcessingData/blob/main/DataProsce.ipynb\" target=\"_parent\"><img src=\"https://colab.research.google.com/assets/colab-badge.svg\" alt=\"Open In Colab\"/></a>"
      ]
    },
    {
      "cell_type": "code",
      "execution_count": 1,
      "metadata": {
        "id": "lpv9Y29Tqb2i"
      },
      "outputs": [],
      "source": [
        "#Importing the libraries\n",
        "import numpy as np\n",
        "import matplotlib.pyplot as plt\n",
        "import pandas as pd"
      ]
    },
    {
      "cell_type": "code",
      "source": [
        "#Importing the dataset\n",
        "dataset = pd.read_csv('ValorantPlayer.csv')\n",
        "x = dataset.iloc[:, :-1].values\n",
        "y = dataset.iloc[:, -1].values"
      ],
      "metadata": {
        "id": "NqtzyzsYr_uV"
      },
      "execution_count": 2,
      "outputs": []
    },
    {
      "cell_type": "code",
      "source": [
        "#Cek Attribute\n",
        "print(x)"
      ],
      "metadata": {
        "colab": {
          "base_uri": "https://localhost:8080/"
        },
        "id": "XxZhQ1F_sCVC",
        "outputId": "2692b62f-9b39-41cf-e320-230f121540df"
      },
      "execution_count": 3,
      "outputs": [
        {
          "output_type": "stream",
          "name": "stdout",
          "text": [
            "[[  1  13   5   1   1]\n",
            " [  2  13   4   1   1]\n",
            " [  3  14   3   1   1]\n",
            " ...\n",
            " [498   7   2   5   0]\n",
            " [499  19  10   2   0]\n",
            " [500   6   4   2   0]]\n"
          ]
        }
      ]
    },
    {
      "cell_type": "code",
      "source": [
        "#Cek Label\n",
        "print(y)"
      ],
      "metadata": {
        "colab": {
          "base_uri": "https://localhost:8080/"
        },
        "id": "kY7wT__gsC7i",
        "outputId": "f4ce00b3-b96b-4d00-98fc-a5a8af03093c"
      },
      "execution_count": 4,
      "outputs": [
        {
          "output_type": "stream",
          "name": "stdout",
          "text": [
            "['High' 'High' 'High' 'High' 'High' 'High' 'Medium' 'High' 'High' 'High'\n",
            " 'Medium' 'Low' 'Medium' 'High' 'Medium' 'High' 'High' 'High' 'High' 'Low'\n",
            " 'Low' 'Medium' 'Low' 'Low' 'High' 'High' 'High' 'Low' 'High' 'High' 'Low'\n",
            " 'Low' 'Medium' 'Low' 'Medium' 'Low' 'Low' 'Low' 'Medium' 'Medium' 'High'\n",
            " 'Low' 'Low' 'Low' 'Low' 'High' 'Medium' 'Medium' 'Medium' 'Medium' 'High'\n",
            " 'Medium' 'High' 'Medium' 'Low' 'MEdium' 'High' 'Medium' 'Medium' 'Low'\n",
            " 'High' 'High' 'Medium' 'High' 'High' 'Medium' 'Medium' 'High' 'High'\n",
            " 'Low' 'High' 'High' 'HIgh' 'Medium' 'Medium' 'Medium' 'Low' 'Low' 'Low'\n",
            " 'Low' 'Low' 'High' 'Low' 'Low' 'Medium' 'High' 'High' 'Medium' 'Low'\n",
            " 'High' 'High' 'Medium' 'High' 'Medium' 'Medium' 'Medium' 'Low' 'Low'\n",
            " 'Low' 'Low' 'Low' 'Medium' 'High' 'High' 'High' 'High' 'Low' 'Low' 'Low'\n",
            " 'High' 'Medium' 'Low' 'Low' 'Low' 'Low' 'Medium' 'High' 'High' 'Medium'\n",
            " 'Low' 'Low' 'Low' 'Low' 'Medium' 'High' 'Medium' 'low' 'High' 'Low'\n",
            " 'Medium' 'Medium' 'Medium' 'Medium' 'Medium' 'Low' 'High' 'High' 'Low'\n",
            " 'Low' 'Low' 'High' 'Medium' 'Low' 'Low' 'Low' 'Medium' 'Medium' 'Medium'\n",
            " 'Medium' 'High' 'High' 'High' 'Low' 'Low' 'High' 'Medium' 'High' 'High'\n",
            " 'Medium' 'High' 'Low' 'Low' 'Medium' 'Medium' 'Low' 'High' 'Medium'\n",
            " 'High' 'Low' 'Low' 'Low' 'High' 'High' 'low' 'low' 'low' 'low' 'Low'\n",
            " 'Medium' 'Medium' 'Medium' 'Medium' 'Low' 'Medium' 'Low' 'High' 'Medium'\n",
            " 'Low' 'Medium' 'Low' 'Low' 'Medium' 'Low' 'Low' 'Low' 'Medium' 'Medium'\n",
            " 'Medium' 'High' 'High' 'High' 'Low' 'Low' 'Low' 'High' 'High' 'Low'\n",
            " 'Medium' 'Low' 'Medium' 'Low' 'Low' 'Medium' 'Low' 'Medium' 'Low' 'Low'\n",
            " 'Medium' 'Medium' 'Low' 'Low' 'High' 'low' 'low' 'Medium' 'low' 'Medium'\n",
            " 'Medium' 'Medium' 'High' 'Medium' 'Medium' 'Medium' 'Low' 'Medium' 'High'\n",
            " 'High' 'Low' 'Low' 'Low' 'Low' 'Low' 'Low' 'Medium' 'Medium' 'Low' 'Low'\n",
            " 'Low' 'Low' 'Low' 'Low' 'Low' 'Low' 'Medium' 'High' 'Medium' 'Medium'\n",
            " 'Low' 'Medium' 'Medium' 'Medium' 'Low' 'Medium' 'High' 'Low' 'Low'\n",
            " 'Medium' 'Low' 'Medium' 'Low' 'Low' 'low' 'Medium' 'Medium' 'Low' 'Low'\n",
            " 'High' 'High' 'High' 'Low' 'Low' 'Medium' 'Medium' 'Low' 'Medium' 'Low'\n",
            " 'Medium' 'Low' 'Low' 'Medium' 'Low' 'Medium' 'Low' 'Medium' 'Medium'\n",
            " 'Low' 'Low' 'Low' 'Low' 'High' 'High' 'High' 'Medium' 'Low' 'High'\n",
            " 'Medium' 'Medium' 'Medium' 'Low' 'High' 'High' 'Low' 'Medium' 'Medium'\n",
            " 'Low' 'Low' 'Low' 'Low' 'Low' 'High' 'Medium' 'Medium' 'Low' 'Medium'\n",
            " 'High' 'Low' 'Medium' 'Low' 'Low' 'Medium' 'Low' 'Medium' 'Low' 'Low'\n",
            " 'Low' 'Medium' 'Low' 'Low' 'High' 'Low' 'Low' 'Medium' 'Low' 'Medium'\n",
            " 'Low' 'Medium' 'High' 'Low' 'High' 'High' 'High' 'High' 'High' 'Low'\n",
            " 'Medium' 'Medium' 'Low' 'Low' 'Medium' 'Medium' 'Low' 'High' 'Medium'\n",
            " 'Medium' 'Low' 'Low' 'Low' 'Medium' 'Low' 'High' 'High' 'Medium' 'Medium'\n",
            " 'Low' 'Medium' 'Medium' 'Low' 'Low' 'Low' 'Low' 'Low' 'Low' 'Medium'\n",
            " 'Medium' 'Medium' 'Low' 'Medium' 'Medium' 'Low' 'Low' 'Low' 'Low'\n",
            " 'Medium' 'Low' 'Low' 'High' 'Low' 'Medium' 'Low' 'Low' 'Low' 'Medium'\n",
            " 'High' 'Low' 'Low' 'Low' 'Low' 'Low' 'Low' 'Low' 'Medium' 'Low' 'Low'\n",
            " 'Low' 'High' 'Medium' 'Medium' 'Medium' 'Low' 'Low' 'Low' 'Medium' 'Low'\n",
            " 'Medium' 'Medium' 'Low' 'Low' 'Low' 'Low' 'Medium' 'High' 'Medium'\n",
            " 'Medium' 'Low' 'Low' 'Medium' 'Medium' 'Medium' 'Medium' 'Low' 'Low'\n",
            " 'High' 'Medium' 'Low' 'Medium' 'Medium' 'Low' 'Low' 'Medium' 'Medium'\n",
            " 'Low' 'Low' 'High' 'Medium' 'Medium' 'Low' 'Low' 'Low' 'Low' 'Medium'\n",
            " 'Low' 'Low' 'Low' 'Medium' 'Medium' 'Medium' 'Medium' 'Medium' 'Medium'\n",
            " 'High' 'Low' 'High' 'Low' 'Low' 'Low' 'Medium' 'Low' 'Low' 'High'\n",
            " 'Medium' 'Low' 'Low' 'Low' 'Low' 'Low' 'Medium' 'Medium' 'Low' 'Low'\n",
            " 'Low' 'Low' 'Low' 'Medium' 'Low' 'Low' 'Low' 'Low' 'Medium' 'High'\n",
            " 'Medium']\n"
          ]
        }
      ]
    },
    {
      "cell_type": "code",
      "source": [
        "#Encoding data kategori (Atribut)\n",
        "from sklearn.compose import ColumnTransformer\n",
        "from sklearn.preprocessing import OneHotEncoder\n",
        "ct = ColumnTransformer(transformers=[('encoder', OneHotEncoder(sparse_output=False), [0])], remainder='passthrough')\n",
        "X = np.array(ct.fit_transform(x))\n",
        "\n",
        "print(X)"
      ],
      "metadata": {
        "colab": {
          "base_uri": "https://localhost:8080/"
        },
        "id": "CtncOMqnsE-9",
        "outputId": "ea8b6665-77c3-4c9c-89a1-b68c54235f1f"
      },
      "execution_count": 15,
      "outputs": [
        {
          "output_type": "stream",
          "name": "stdout",
          "text": [
            "[[ 1.  0.  0. ...  5.  1.  1.]\n",
            " [ 0.  1.  0. ...  4.  1.  1.]\n",
            " [ 0.  0.  1. ...  3.  1.  1.]\n",
            " ...\n",
            " [ 0.  0.  0. ...  2.  5.  0.]\n",
            " [ 0.  0.  0. ... 10.  2.  0.]\n",
            " [ 0.  0.  0. ...  4.  2.  0.]]\n"
          ]
        }
      ]
    },
    {
      "cell_type": "code",
      "source": [
        "#Encoding data kategori (Class/Label)\n",
        "from sklearn.preprocessing import LabelEncoder\n",
        "le = LabelEncoder()\n",
        "y = le.fit_transform(y)\n",
        "\n",
        "print (y)"
      ],
      "metadata": {
        "colab": {
          "base_uri": "https://localhost:8080/"
        },
        "id": "xdYF5l8qsF8j",
        "outputId": "2359b971-1abe-4e07-e3ed-d900391dd169"
      },
      "execution_count": 6,
      "outputs": [
        {
          "output_type": "stream",
          "name": "stdout",
          "text": [
            "[1 1 1 1 1 1 4 1 1 1 4 2 4 1 4 1 1 1 1 2 2 4 2 2 1 1 1 2 1 1 2 2 4 2 4 2 2\n",
            " 2 4 4 1 2 2 2 2 1 4 4 4 4 1 4 1 4 2 3 1 4 4 2 1 1 4 1 1 4 4 1 1 2 1 1 0 4\n",
            " 4 4 2 2 2 2 2 1 2 2 4 1 1 4 2 1 1 4 1 4 4 4 2 2 2 2 2 4 1 1 1 1 2 2 2 1 4\n",
            " 2 2 2 2 4 1 1 4 2 2 2 2 4 1 4 5 1 2 4 4 4 4 4 2 1 1 2 2 2 1 4 2 2 2 4 4 4\n",
            " 4 1 1 1 2 2 1 4 1 1 4 1 2 2 4 4 2 1 4 1 2 2 2 1 1 5 5 5 5 2 4 4 4 4 2 4 2\n",
            " 1 4 2 4 2 2 4 2 2 2 4 4 4 1 1 1 2 2 2 1 1 2 4 2 4 2 2 4 2 4 2 2 4 4 2 2 1\n",
            " 5 5 4 5 4 4 4 1 4 4 4 2 4 1 1 2 2 2 2 2 2 4 4 2 2 2 2 2 2 2 2 4 1 4 4 2 4\n",
            " 4 4 2 4 1 2 2 4 2 4 2 2 5 4 4 2 2 1 1 1 2 2 4 4 2 4 2 4 2 2 4 2 4 2 4 4 2\n",
            " 2 2 2 1 1 1 4 2 1 4 4 4 2 1 1 2 4 4 2 2 2 2 2 1 4 4 2 4 1 2 4 2 2 4 2 4 2\n",
            " 2 2 4 2 2 1 2 2 4 2 4 2 4 1 2 1 1 1 1 1 2 4 4 2 2 4 4 2 1 4 4 2 2 2 4 2 1\n",
            " 1 4 4 2 4 4 2 2 2 2 2 2 4 4 4 2 4 4 2 2 2 2 4 2 2 1 2 4 2 2 2 4 1 2 2 2 2\n",
            " 2 2 2 4 2 2 2 1 4 4 4 2 2 2 4 2 4 4 2 2 2 2 4 1 4 4 2 2 4 4 4 4 2 2 1 4 2\n",
            " 4 4 2 2 4 4 2 2 1 4 4 2 2 2 2 4 2 2 2 4 4 4 4 4 4 1 2 1 2 2 2 4 2 2 1 4 2\n",
            " 2 2 2 2 4 4 2 2 2 2 2 4 2 2 2 2 4 1 4]\n"
          ]
        }
      ]
    },
    {
      "cell_type": "code",
      "source": [
        "#Membagi dataset ke dalam training set dan test set\n",
        "from sklearn.model_selection import train_test_split\n",
        "X_train, X_test, y_train, y_test = train_test_split(X, y, test_size = 0.2, random_state = 1)"
      ],
      "metadata": {
        "id": "4pSB2TBesHSu"
      },
      "execution_count": 7,
      "outputs": []
    },
    {
      "cell_type": "code",
      "source": [
        "print(X_train)"
      ],
      "metadata": {
        "colab": {
          "base_uri": "https://localhost:8080/"
        },
        "id": "9FlMSsdesIpi",
        "outputId": "1b7889ad-64fb-43cd-b041-783ed70a0d5e"
      },
      "execution_count": 8,
      "outputs": [
        {
          "output_type": "stream",
          "name": "stdout",
          "text": [
            "[[ 0.  0.  0. ...  2.  0.  0.]\n",
            " [ 0.  0.  0. ...  3.  1.  0.]\n",
            " [ 0.  0.  0. ...  3.  1.  0.]\n",
            " ...\n",
            " [ 0.  0.  0. ...  8.  1.  0.]\n",
            " [ 0.  0.  0. ... 12.  6.  0.]\n",
            " [ 0.  0.  0. ...  3.  2.  0.]]\n"
          ]
        }
      ]
    },
    {
      "cell_type": "code",
      "source": [
        "print(X_test)"
      ],
      "metadata": {
        "colab": {
          "base_uri": "https://localhost:8080/"
        },
        "id": "900JwYMlsJk6",
        "outputId": "d08f5762-5e8c-42a3-e7c8-14a9a425df09"
      },
      "execution_count": 9,
      "outputs": [
        {
          "output_type": "stream",
          "name": "stdout",
          "text": [
            "[[ 0.  0.  0. ...  8.  5.  0.]\n",
            " [ 0.  0.  0. ...  3.  1.  0.]\n",
            " [ 0.  0.  0. ...  3.  1.  0.]\n",
            " ...\n",
            " [ 0.  0.  0. ... 12.  6.  0.]\n",
            " [ 0.  0.  0. ...  3.  1.  0.]\n",
            " [ 0.  0.  0. ...  2.  1.  0.]]\n"
          ]
        }
      ]
    },
    {
      "cell_type": "code",
      "source": [
        "print(y_train)"
      ],
      "metadata": {
        "colab": {
          "base_uri": "https://localhost:8080/"
        },
        "id": "CUWJD_GXsKc2",
        "outputId": "9d93bc05-46cc-4512-fa59-acf144b02768"
      },
      "execution_count": 10,
      "outputs": [
        {
          "output_type": "stream",
          "name": "stdout",
          "text": [
            "[2 4 4 4 2 2 2 2 4 4 2 4 4 2 4 4 4 1 1 4 1 2 1 4 4 2 2 4 2 4 2 4 2 1 4 2 2\n",
            " 4 4 5 2 2 4 4 1 4 4 4 2 2 1 1 2 4 2 4 2 1 2 2 4 1 2 2 2 2 1 2 2 4 2 1 2 4\n",
            " 1 1 2 2 4 4 2 2 2 4 1 2 2 2 4 4 4 1 4 2 1 2 4 2 4 2 2 2 4 2 2 2 4 1 5 1 4\n",
            " 4 4 2 4 2 2 4 2 1 2 1 2 1 1 1 2 2 2 2 4 1 4 4 1 4 1 4 2 4 1 2 2 4 2 2 4 4\n",
            " 2 2 1 4 2 2 4 2 4 2 2 5 2 4 1 1 4 2 2 4 4 4 1 1 2 4 5 2 2 2 2 2 2 2 1 4 1\n",
            " 4 2 4 2 5 1 2 2 3 2 2 4 4 2 4 2 2 1 2 4 4 2 1 2 2 2 4 2 4 2 1 1 2 1 2 1 2\n",
            " 1 1 4 1 4 4 4 4 1 2 4 2 2 4 2 2 1 4 2 2 4 2 5 2 2 1 4 2 2 1 2 4 2 1 4 1 4\n",
            " 2 1 4 2 2 2 2 4 2 2 2 2 4 1 4 4 2 2 2 2 2 4 1 2 1 2 1 2 1 1 4 4 2 4 2 1 4\n",
            " 4 1 4 4 2 4 1 4 2 4 2 2 2 4 2 1 4 2 2 4 2 2 2 5 4 2 2 1 2 4 2 4 4 1 4 1 1\n",
            " 2 4 1 2 2 1 2 2 2 1 4 4 2 4 4 2 2 4 4 4 2 2 4 2 4 1 4 2 2 1 1 2 4 1 1 2 2\n",
            " 1 1 2 2 1 2 1 4 1 2 1 1 4 4 2 2 1 2 4 2 4 4 4 2 2 4 0 2 1 2]\n"
          ]
        }
      ]
    },
    {
      "cell_type": "code",
      "source": [
        "print(y_test)"
      ],
      "metadata": {
        "colab": {
          "base_uri": "https://localhost:8080/"
        },
        "id": "45T4Jv4gsLch",
        "outputId": "8c5a1657-dc50-4183-9ba0-2ae4bb3ad055"
      },
      "execution_count": 11,
      "outputs": [
        {
          "output_type": "stream",
          "name": "stdout",
          "text": [
            "[1 2 4 1 4 4 1 2 2 1 2 2 2 4 4 2 2 4 2 4 4 4 2 4 4 4 4 2 5 2 4 4 2 4 4 2 1\n",
            " 1 4 1 4 1 4 2 2 4 2 4 2 1 2 4 1 2 4 4 2 1 1 1 2 1 2 2 2 2 2 2 4 4 4 1 4 1\n",
            " 2 4 2 2 2 1 4 1 2 4 1 5 4 2 2 2 2 2 4 4 2 2 2 1 1 4]\n"
          ]
        }
      ]
    },
    {
      "cell_type": "code",
      "source": [
        "#Feature Scaling\n",
        "from sklearn.preprocessing import StandardScaler\n",
        "sc = StandardScaler()\n",
        "X_train[:, 3:] = sc.fit_transform(X_train[:, 3:])\n",
        "X_test[:, 3:] = sc.transform(X_test[:, 3:])"
      ],
      "metadata": {
        "id": "ym1v_orUsMjG"
      },
      "execution_count": 12,
      "outputs": []
    },
    {
      "cell_type": "code",
      "source": [
        "print(X_train)"
      ],
      "metadata": {
        "colab": {
          "base_uri": "https://localhost:8080/"
        },
        "id": "HTKct7tpsNdn",
        "outputId": "b36ed7c1-fe3a-48b2-f8e6-f439db140a7e"
      },
      "execution_count": 13,
      "outputs": [
        {
          "output_type": "stream",
          "name": "stdout",
          "text": [
            "[[ 0.          0.          0.         ... -0.78225491 -1.1209054\n",
            "  -0.16815955]\n",
            " [ 0.          0.          0.         ... -0.38617647 -0.41259235\n",
            "  -0.16815955]\n",
            " [ 0.          0.          0.         ... -0.38617647 -0.41259235\n",
            "  -0.16815955]\n",
            " ...\n",
            " [ 0.          0.          0.         ...  1.59421569 -0.41259235\n",
            "  -0.16815955]\n",
            " [ 0.          0.          0.         ...  3.17852943  3.12897289\n",
            "  -0.16815955]\n",
            " [ 0.          0.          0.         ... -0.38617647  0.2957207\n",
            "  -0.16815955]]\n"
          ]
        }
      ]
    },
    {
      "cell_type": "code",
      "source": [
        "print(X_test)"
      ],
      "metadata": {
        "colab": {
          "base_uri": "https://localhost:8080/"
        },
        "id": "b_fgtF3osOW_",
        "outputId": "a629e38a-b50b-46cd-a2b0-7dc379cc03fd"
      },
      "execution_count": 14,
      "outputs": [
        {
          "output_type": "stream",
          "name": "stdout",
          "text": [
            "[[ 0.          0.          0.         ...  1.59421569  2.42065984\n",
            "  -0.16815955]\n",
            " [ 0.          0.          0.         ... -0.38617647 -0.41259235\n",
            "  -0.16815955]\n",
            " [ 0.          0.          0.         ... -0.38617647 -0.41259235\n",
            "  -0.16815955]\n",
            " ...\n",
            " [ 0.          0.          0.         ...  3.17852943  3.12897289\n",
            "  -0.16815955]\n",
            " [ 0.          0.          0.         ... -0.38617647 -0.41259235\n",
            "  -0.16815955]\n",
            " [ 0.          0.          0.         ... -0.78225491 -0.41259235\n",
            "  -0.16815955]]\n"
          ]
        }
      ]
    }
  ]
}